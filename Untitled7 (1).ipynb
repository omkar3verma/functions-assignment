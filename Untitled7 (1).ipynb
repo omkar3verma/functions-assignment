{
 "cells": [
  {
   "cell_type": "markdown",
   "id": "ed7e72e0-324e-4361-851e-d5af8052505d",
   "metadata": {},
   "source": [
    "#THEORY QUESTIONS"
   ]
  },
  {
   "cell_type": "markdown",
   "id": "2dfa81cf-b77f-4476-a0e5-f77541b30599",
   "metadata": {},
   "source": [
    "1. What is the difference between a function and a method in Python?\n",
    "\n",
    "ANS. *Function: A block of code that performs a task and can be called independently.\n",
    "     *Method: A function defined inside a class that operates on objects of that class.\n",
    "-Function\n",
    "def add(a, b):\n",
    "    return a + b\n",
    "print(add(2, 3))  # Output: 5\n",
    "\n",
    "-Method\n",
    "class Calculator:\n",
    "    def add(self, a, b):\n",
    "        return a + b\n",
    "\n",
    "calc = Calculator()\n",
    "print(calc.add(2, 3))  # Output: 5"
   ]
  },
  {
   "cell_type": "markdown",
   "id": "67a15758-2696-4c63-8d73-b0cf522a38fc",
   "metadata": {},
   "source": [
    "2.  Explain the concept of function arguments and parameters in Python\n",
    "\n",
    "ANS. Arguments are the actual values passed to a function when it is called.\n",
    "EX. print(greet(\"Alice\"))  #\"Alice\" is an argument\n",
    "Parameters are variables listed in a function's definition. They act as placeholders for the values the function will use when it is called\n",
    "ex. def greet(name):  # 'name' is a parameter\n",
    "    return f\"Hello, {name}!\""
   ]
  },
  {
   "cell_type": "markdown",
   "id": "056ef53a-4fe7-40dd-9b8b-5e7c71d15bf4",
   "metadata": {},
   "source": [
    "3.  What are the different ways to define and call a function in Python\n",
    "\n",
    "ans. 1. Regular Function\n",
    "2. Function with Parameters\n",
    "3. Function with Default Parameters\n",
    "4. Lambda Function"
   ]
  },
  {
   "cell_type": "markdown",
   "id": "5f3b199b-6c84-4435-8889-5d85043d4f3b",
   "metadata": {},
   "source": [
    "4. What is the purpose of the `return` statement in a Python function?\n",
    "\n",
    "ans. The return statement in a Python function is used to send a value back to the caller. \n",
    "It marks the end of the function's execution and provides the result of the function's computation.\n",
    "\n",
    "def add(a, b):\n",
    "    return a + b\n",
    "result = add(2, 3)\n",
    "print(result)  # Output: 5"
   ]
  },
  {
   "cell_type": "markdown",
   "id": "7e515af4-38de-45e4-a616-60875137c202",
   "metadata": {},
   "source": [
    "5.  What are iterators in Python and how do they differ from iterables\n",
    "\n",
    "ans. An iterable is an object, like a list or string, that you can loop over using a for loop. An iterator is an object that produces items one at a time when you call next() on it. All iterators are also iterables, but not all iterables are iterators."
   ]
  },
  {
   "cell_type": "markdown",
   "id": "a97f6130-bfd1-4e85-83d5-872e750ca7a0",
   "metadata": {},
   "source": [
    "6. Explain the concept of generators in Python and how they are defined\n",
    "\n",
    "ans. A generator is a special type of iterator in Python used to produce a sequence of values lazily, meaning one value at a time, as needed. Generators are memory-efficient because they do not store all values in memory at once.\n",
    "def count_up_to(n):\n",
    "    count = 1\n",
    "    while count <= n:\n",
    "        yield count\n",
    "        count += 1"
   ]
  },
  {
   "cell_type": "markdown",
   "id": "be138dca-4688-4970-9f06-c375af23a937",
   "metadata": {},
   "source": [
    "7. What are the advantages of using generators over regular functions?\n",
    "\n",
    "ans. \n",
    "Generators are memory-efficient, produce values lazily, and allow cleaner code for large or infinite sequences, \n",
    "avoiding the need to store all values at once."
   ]
  },
  {
   "cell_type": "raw",
   "id": "a9dad5ac-272f-4dfd-9389-91e3b3269b08",
   "metadata": {},
   "source": [
    "8.  What is a lambda function in Python and when is it typically used?\n",
    "\n",
    "ans.  A lambda function in Python is a small, anonymous function defined using the lambda keyword. \n",
    "It can take any number of arguments but can only have a single expression. The result of the expression is automatically returned\n",
    "\n",
    "numbers = [1, 2, 3, 4]\n",
    "squared = list(map(lambda x: x**2, numbers))\n",
    "print(squared)                                    \n",
    "\n",
    "\n",
    "# Output: [1, 4, 9, 16]"
   ]
  },
  {
   "cell_type": "raw",
   "id": "16b21d62-7cc2-4766-abf6-47580be09112",
   "metadata": {},
   "source": [
    "9. . Explain the purpose and usage of the `map()` function in Python.\n",
    "\n",
    "ans. The map() function in Python is used to apply a given function to each item in an iterable \n",
    "(like a list, tuple, etc.) and returns a new iterable (a map object) with the results.\n",
    "\n",
    "# Example function to square a number\n",
    "def square(x):\n",
    "    return x ** 2\n",
    "numbers = [1, 2, 3, 4]\n",
    "squared_numbers = map(square, numbers)\n",
    "\n",
    "print(list(squared_numbers))  \n",
    "\n",
    "# Output: [1, 4, 9, 16]"
   ]
  },
  {
   "cell_type": "raw",
   "id": "45e5508b-780e-4c60-b470-2e123f48dd97",
   "metadata": {},
   "source": [
    "10. What is the difference between `map()`, `reduce()`, and `filter()` functions in Python?\n",
    "\n",
    "ans. map(): Applies a function to each item in an iterable and returns a new iterable with the results.\n",
    "reduce(): Cumulatively applies a function to combine all items into a single value.\n",
    "filter(): Filters items from an iterable based on a condition.\n"
   ]
  },
  {
   "cell_type": "raw",
   "id": "0d86cd0b-7f31-45e8-a5cb-4aeda7e92bc8",
   "metadata": {},
   "source": [
    "11.  Using pen & Paper write the internal mechanism for sum operation using  reduce function on this given\n",
    "list:[47,11,42,13]; \n",
    "\n",
    "file attached"
   ]
  },
  {
   "cell_type": "markdown",
   "id": "669ce3da-d608-4862-89f0-0eec93885587",
   "metadata": {},
   "source": [
    "#PRACTICAL QUESTIONS"
   ]
  },
  {
   "cell_type": "code",
   "execution_count": 26,
   "id": "04f3ed16-ecc9-4994-a941-b1dbabc659fe",
   "metadata": {},
   "outputs": [
    {
     "name": "stdout",
     "output_type": "stream",
     "text": [
      "50\n"
     ]
    }
   ],
   "source": [
    "#1.  Write a Python function that takes a list of numbers as input and returns the sum of all even numbers in\n",
    "#the listt.\n",
    "\n",
    "def sum_of_even_numbers(numbers):\n",
    "\n",
    "    return sum(x for x in numbers if x % 2 == 0)\n",
    "numbers = [47, 11, 42, 13, 8]\n",
    "result = sum_of_even_numbers(numbers)\n",
    "print(result) "
   ]
  },
  {
   "cell_type": "code",
   "execution_count": 30,
   "id": "d695d986-9699-4eb0-96f0-e25a3a4427c8",
   "metadata": {},
   "outputs": [
    {
     "name": "stdout",
     "output_type": "stream",
     "text": [
      "rakmo\n"
     ]
    }
   ],
   "source": [
    "#2. Create a Python function that accepts a string and returns the reverse of that string.\n",
    "\n",
    "def reverse_string(s):\n",
    "    return s[::-1]\n",
    "\n",
    "input_string = \"omkar\"\n",
    "result = reverse_string(input_string)\n",
    "print(result)  "
   ]
  },
  {
   "cell_type": "code",
   "execution_count": 32,
   "id": "f16b2958-7ae2-483c-9db0-ca6a70c804c4",
   "metadata": {},
   "outputs": [
    {
     "name": "stdout",
     "output_type": "stream",
     "text": [
      "[1, 4, 9, 16, 25]\n"
     ]
    }
   ],
   "source": [
    "#3. . Implement a Python function that takes a list of integers and returns a new list containing the squares of\n",
    "#each number.\n",
    "\n",
    "def square_numbers(numbers):\n",
    "    return [x ** 2 for x in numbers]\n",
    "\n",
    "input_numbers = [1, 2, 3, 4, 5]\n",
    "result = square_numbers(input_numbers)\n",
    "print(result) "
   ]
  },
  {
   "cell_type": "code",
   "execution_count": 34,
   "id": "790c1dbc-1e40-452d-98da-2a7e0b58273e",
   "metadata": {},
   "outputs": [
    {
     "name": "stdout",
     "output_type": "stream",
     "text": [
      "2 3 5 7 11 13 17 19 23 29 31 37 41 43 47 53 59 61 67 71 73 79 83 89 97 101 103 107 109 113 127 131 137 139 149 151 157 163 167 173 179 181 191 193 197 199 "
     ]
    }
   ],
   "source": [
    "#4. 4. Write a Python function that checks if a given number is prime or not from 1 to 200.\n",
    "\n",
    "def is_prime(n):\n",
    "    if n <= 1:\n",
    "        return False \n",
    "    for i in range(2, int(n ** 0.5) + 1):\n",
    "        if n % i == 0:\n",
    "            return False \n",
    "    return True\n",
    "\n",
    "for num in range(1, 201):\n",
    "    if is_prime(num):\n",
    "        print(num, end=\" \")"
   ]
  },
  {
   "cell_type": "code",
   "execution_count": 52,
   "id": "465a8361-477d-4447-a48e-7bb782756cf9",
   "metadata": {},
   "outputs": [],
   "source": [
    "#5. Create an iterator class in Python that generates the Fibonacci sequence up to a specified number of terms\n",
    "\n",
    "class FibonacciIterator:\n",
    "    def __init__(self, n):\n",
    "        self.n = n\n",
    "        self.a, self.b = 0, 1\n",
    "        self.count = 0\n",
    "\n",
    "    def __iter__(self):\n",
    "        return self\n",
    "\n",
    "    def __next__(self):\n",
    "        if self.count < self.n:\n",
    "            result = self.a\n",
    "            self.a, self.b = self.b, self.a + self.b\n",
    "            self.count += 1\n",
    "            return result "
   ]
  },
  {
   "cell_type": "code",
   "execution_count": 54,
   "id": "29290a80-3ff9-4a72-9f36-29f36de61235",
   "metadata": {},
   "outputs": [
    {
     "name": "stdout",
     "output_type": "stream",
     "text": [
      "1 2 4 8 16 32 "
     ]
    }
   ],
   "source": [
    "#6. Write a generator function in Python that yields the powers of 2 up to a given exponent.\n",
    "\n",
    "def powers_of_2(exponent):\n",
    "    for i in range(exponent + 1):\n",
    "        yield 2 ** i\n",
    "for power in powers_of_2(5):\n",
    "    print(power, end=\" \") "
   ]
  },
  {
   "cell_type": "code",
   "execution_count": 58,
   "id": "ca28e3ba-f441-43a9-925f-d06ca6819e97",
   "metadata": {},
   "outputs": [
    {
     "name": "stdout",
     "output_type": "stream",
     "text": [
      "H\n",
      "e\n",
      "l\n",
      "l\n",
      "o\n",
      ",\n",
      " \n",
      "W\n",
      "o\n",
      "r\n",
      "l\n",
      "d\n",
      "!\n"
     ]
    }
   ],
   "source": [
    "#7.  Implement a generator function that reads a file line by line and yields each line as a string.\n",
    "\n",
    "def generate_characters(text):\n",
    "    for char in text:\n",
    "        yield char\n",
    "\n",
    "text = \"Hello, World!\"\n",
    "for char in generate_characters(text):\n",
    "    print(char) "
   ]
  },
  {
   "cell_type": "code",
   "execution_count": 64,
   "id": "5fed93ff-efda-49e4-b95e-456d2da04886",
   "metadata": {},
   "outputs": [
    {
     "name": "stdout",
     "output_type": "stream",
     "text": [
      "[(4, 7), (3, 8), (2, 9), (1, 10)]\n"
     ]
    }
   ],
   "source": [
    "#8. . Use a lambda function in Python to sort a list of tuples based on the second element of each tuple.\n",
    "\n",
    "tuples = [(1, 10), (2, 9), (3, 8), (4, 7)]\n",
    "\n",
    "# Sorting the list of tuples based on the second element of each tuple\n",
    "sorted_tuples = sorted(tuples, key=lambda x: x[1])\n",
    "print(sorted_tuples) "
   ]
  },
  {
   "cell_type": "code",
   "execution_count": 66,
   "id": "6345fa3b-ab8f-4ddb-a5b5-e7848b800110",
   "metadata": {},
   "outputs": [
    {
     "name": "stdout",
     "output_type": "stream",
     "text": [
      "[32.0, 68.0, 77.0, 86.0, 104.0]\n"
     ]
    }
   ],
   "source": [
    "#9.  Write a Python program that uses `map()` to convert a list of temperatures from Celsius to Fahrenheit.\n",
    "\n",
    "celsius_temps = [0, 20, 25, 30, 40]\n",
    "def celsius_to_fahrenheit(celsius):\n",
    "    return (celsius * 9/5) + 32\n",
    "fahrenheit_temps = list(map(celsius_to_fahrenheit, celsius_temps))\n",
    "print(fahrenheit_temps)"
   ]
  },
  {
   "cell_type": "code",
   "execution_count": 68,
   "id": "da20d6d4-3644-4b3b-9612-4c9e38a4a5f7",
   "metadata": {},
   "outputs": [
    {
     "name": "stdout",
     "output_type": "stream",
     "text": [
      "mkr s Lrnng dt nlytcs!\n"
     ]
    }
   ],
   "source": [
    "#10. Create a Python program that uses `filter()` to remove all the vowels from a given string.\n",
    "\n",
    "def remove_vowels(char):\n",
    "    vowels = 'aeiouAEIOU'\n",
    "    return char not in vowels\n",
    "input_string = \"omkar Is LEaarning data analytics!\"\n",
    "result = ''.join(filter(remove_vowels, input_string))\n",
    "\n",
    "print(result)"
   ]
  },
  {
   "cell_type": "code",
   "execution_count": 82,
   "id": "3589bdff-8db2-488a-9442-c0af68b12dbb",
   "metadata": {},
   "outputs": [
    {
     "name": "stdout",
     "output_type": "stream",
     "text": [
      "\n",
      "Processed Orders:\n",
      "Order Number: 34587, Total Price: 163.80\n",
      "Order Number: 98762, Total Price: 284.00\n",
      "Order Number: 77226, Total Price: 108.85\n",
      "Order Number: 88112, Total Price: 84.97\n"
     ]
    }
   ],
   "source": [
    "#11. Write a Python program, which returns a list with 2-tuples. Each tuple consists of the order number and the\n",
    "#product of the price per item and the quantity. The product should be increased by 10,- € if the value of the\n",
    "#order is smaller than 100,00 €.\n",
    "#Write a Python program using lambda and map.\n",
    "\n",
    "book_orders = [\n",
    "[34587, \"Learning Python, Mark Lutz\", 4, 40.95],\n",
    "[98762, \"Programming Python, Mark Lutz\", 5, 56.80],\n",
    "[77226, \"Head First Python, Paul Barry\", 3, 32.95],\n",
    "[88112, \"Einführung in Python3, Bernd Klein\", 3, 24.99],\n",
    "]\n",
    "\n",
    "def process_orders(orders):\n",
    "    processed_orders = list(map(lambda order: (order[0], (order[2] * order[3]) + 10 if (order[2] * order[3]) < 100 else (order[2] * order[3])), orders))\n",
    "    return processed_orders\n",
    "    \n",
    "processed_order_list = process_orders(book_orders)\n",
    "\n",
    "print(\"\\nProcessed Orders:\")\n",
    "for order_number, total_price in processed_order_list:\n",
    "    print(f\"Order Number: {order_number}, Total Price: {total_price:.2f}\") "
   ]
  },
  {
   "cell_type": "code",
   "execution_count": null,
   "id": "318314a2-865c-448d-95cf-eed486fecf0c",
   "metadata": {},
   "outputs": [],
   "source": []
  }
 ],
 "metadata": {
  "kernelspec": {
   "display_name": "Python 3 (ipykernel)",
   "language": "python",
   "name": "python3"
  },
  "language_info": {
   "codemirror_mode": {
    "name": "ipython",
    "version": 3
   },
   "file_extension": ".py",
   "mimetype": "text/x-python",
   "name": "python",
   "nbconvert_exporter": "python",
   "pygments_lexer": "ipython3",
   "version": "3.12.7"
  }
 },
 "nbformat": 4,
 "nbformat_minor": 5
}
